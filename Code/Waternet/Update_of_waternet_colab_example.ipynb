{
  "cells": [
    {
      "cell_type": "markdown",
      "metadata": {
        "id": "view-in-github",
        "colab_type": "text"
      },
      "source": [
        "<a href=\"https://colab.research.google.com/github/ShahidHasib586/Underwater-object-detection-using-waternet-and-yolov7/blob/main/Code/Waternet/Update_of_waternet_colab_example.ipynb\" target=\"_parent\"><img src=\"https://colab.research.google.com/assets/colab-badge.svg\" alt=\"Open In Colab\"/></a>"
      ]
    },
    {
      "cell_type": "markdown",
      "source": [
        "# Waternet Example\n",
        "\n",
        "- Code: https://github.com/tnwei/waternet\n",
        "- Original paper: https://arxiv.org/abs/1901.05495"
      ],
      "metadata": {
        "id": "7nOygJczVN0p"
      }
    },
    {
      "cell_type": "markdown",
      "metadata": {
        "id": "daa7SnCpSFgI"
      },
      "source": [
        "## Init network"
      ]
    },
    {
      "cell_type": "code",
      "execution_count": null,
      "metadata": {
        "id": "PjrANb0XSV_w"
      },
      "outputs": [],
      "source": [
        "import torch\n",
        "import cv2\n",
        "import matplotlib.pyplot as plt\n",
        "%matplotlib inline"
      ]
    },
    {
      "cell_type": "code",
      "execution_count": null,
      "metadata": {
        "colab": {
          "base_uri": "https://localhost:8080/"
        },
        "id": "xlmuaReWS0k9",
        "outputId": "941c05c1-4e58-4a53-838e-dd815363b202"
      },
      "outputs": [
        {
          "output_type": "execute_result",
          "data": {
            "text/plain": [
              "False"
            ]
          },
          "metadata": {},
          "execution_count": 2
        }
      ],
      "source": [
        "# Make sure you are connected to a GPU instance\n",
        "torch.cuda.is_available()"
      ]
    },
    {
      "cell_type": "code",
      "execution_count": null,
      "metadata": {
        "colab": {
          "base_uri": "https://localhost:8080/"
        },
        "id": "KBKcHr0gSHMf",
        "outputId": "849fc28f-9901-4f1a-90ce-b73f78a703f6"
      },
      "outputs": [
        {
          "output_type": "stream",
          "name": "stderr",
          "text": [
            "/usr/local/lib/python3.10/dist-packages/torch/hub.py:330: UserWarning: You are about to download and run code from an untrusted repository. In a future release, this won't be allowed. To add the repository to your trusted list, change the command to {calling_fn}(..., trust_repo=False) and a command prompt will appear asking for an explicit confirmation of trust, or load(..., trust_repo=True), which will assume that the prompt is to be answered with 'yes'. You can also use load(..., trust_repo='check') which will only prompt for confirmation if the repo is not already trusted. This will eventually be the default behaviour\n",
            "  warnings.warn(\n",
            "Downloading: \"https://github.com/tnwei/waternet/zipball/main\" to /root/.cache/torch/hub/main.zip\n",
            "Downloading: \"https://www.dropbox.com/s/j8ida1d86hy5tm4/waternet_exported_state_dict-daa0ee.pt?dl=1\" to /root/.cache/torch/hub/checkpoints/waternet_exported_state_dict-daa0ee.pt\n"
          ]
        }
      ],
      "source": [
        "# Load from torchhub\n",
        "preprocess, postprocess, model = torch.hub.load('tnwei/waternet', 'waternet')\n",
        "model.eval();"
      ]
    },
    {
      "cell_type": "code",
      "source": [
        "#upload the image data files as zip\n",
        "from google.colab import files\n",
        "files.upload()\n"
      ],
      "metadata": {
        "id": "zrXXcxxSlIVc",
        "outputId": "521fbaec-e5dd-42d3-b8f4-fc23c1b26c2f",
        "colab": {
          "base_uri": "https://localhost:8080/",
          "height": 56
        }
      },
      "execution_count": null,
      "outputs": [
        {
          "output_type": "display_data",
          "data": {
            "text/plain": [
              "<IPython.core.display.HTML object>"
            ],
            "text/html": [
              "\n",
              "     <input type=\"file\" id=\"files-3ad743e7-f870-41d0-a21f-16151887f552\" name=\"files[]\" multiple disabled\n",
              "        style=\"border:none\" />\n",
              "     <output id=\"result-3ad743e7-f870-41d0-a21f-16151887f552\">\n",
              "      Upload widget is only available when the cell has been executed in the\n",
              "      current browser session. Please rerun this cell to enable.\n",
              "      </output>\n",
              "      <script>// Copyright 2017 Google LLC\n",
              "//\n",
              "// Licensed under the Apache License, Version 2.0 (the \"License\");\n",
              "// you may not use this file except in compliance with the License.\n",
              "// You may obtain a copy of the License at\n",
              "//\n",
              "//      http://www.apache.org/licenses/LICENSE-2.0\n",
              "//\n",
              "// Unless required by applicable law or agreed to in writing, software\n",
              "// distributed under the License is distributed on an \"AS IS\" BASIS,\n",
              "// WITHOUT WARRANTIES OR CONDITIONS OF ANY KIND, either express or implied.\n",
              "// See the License for the specific language governing permissions and\n",
              "// limitations under the License.\n",
              "\n",
              "/**\n",
              " * @fileoverview Helpers for google.colab Python module.\n",
              " */\n",
              "(function(scope) {\n",
              "function span(text, styleAttributes = {}) {\n",
              "  const element = document.createElement('span');\n",
              "  element.textContent = text;\n",
              "  for (const key of Object.keys(styleAttributes)) {\n",
              "    element.style[key] = styleAttributes[key];\n",
              "  }\n",
              "  return element;\n",
              "}\n",
              "\n",
              "// Max number of bytes which will be uploaded at a time.\n",
              "const MAX_PAYLOAD_SIZE = 100 * 1024;\n",
              "\n",
              "function _uploadFiles(inputId, outputId) {\n",
              "  const steps = uploadFilesStep(inputId, outputId);\n",
              "  const outputElement = document.getElementById(outputId);\n",
              "  // Cache steps on the outputElement to make it available for the next call\n",
              "  // to uploadFilesContinue from Python.\n",
              "  outputElement.steps = steps;\n",
              "\n",
              "  return _uploadFilesContinue(outputId);\n",
              "}\n",
              "\n",
              "// This is roughly an async generator (not supported in the browser yet),\n",
              "// where there are multiple asynchronous steps and the Python side is going\n",
              "// to poll for completion of each step.\n",
              "// This uses a Promise to block the python side on completion of each step,\n",
              "// then passes the result of the previous step as the input to the next step.\n",
              "function _uploadFilesContinue(outputId) {\n",
              "  const outputElement = document.getElementById(outputId);\n",
              "  const steps = outputElement.steps;\n",
              "\n",
              "  const next = steps.next(outputElement.lastPromiseValue);\n",
              "  return Promise.resolve(next.value.promise).then((value) => {\n",
              "    // Cache the last promise value to make it available to the next\n",
              "    // step of the generator.\n",
              "    outputElement.lastPromiseValue = value;\n",
              "    return next.value.response;\n",
              "  });\n",
              "}\n",
              "\n",
              "/**\n",
              " * Generator function which is called between each async step of the upload\n",
              " * process.\n",
              " * @param {string} inputId Element ID of the input file picker element.\n",
              " * @param {string} outputId Element ID of the output display.\n",
              " * @return {!Iterable<!Object>} Iterable of next steps.\n",
              " */\n",
              "function* uploadFilesStep(inputId, outputId) {\n",
              "  const inputElement = document.getElementById(inputId);\n",
              "  inputElement.disabled = false;\n",
              "\n",
              "  const outputElement = document.getElementById(outputId);\n",
              "  outputElement.innerHTML = '';\n",
              "\n",
              "  const pickedPromise = new Promise((resolve) => {\n",
              "    inputElement.addEventListener('change', (e) => {\n",
              "      resolve(e.target.files);\n",
              "    });\n",
              "  });\n",
              "\n",
              "  const cancel = document.createElement('button');\n",
              "  inputElement.parentElement.appendChild(cancel);\n",
              "  cancel.textContent = 'Cancel upload';\n",
              "  const cancelPromise = new Promise((resolve) => {\n",
              "    cancel.onclick = () => {\n",
              "      resolve(null);\n",
              "    };\n",
              "  });\n",
              "\n",
              "  // Wait for the user to pick the files.\n",
              "  const files = yield {\n",
              "    promise: Promise.race([pickedPromise, cancelPromise]),\n",
              "    response: {\n",
              "      action: 'starting',\n",
              "    }\n",
              "  };\n",
              "\n",
              "  cancel.remove();\n",
              "\n",
              "  // Disable the input element since further picks are not allowed.\n",
              "  inputElement.disabled = true;\n",
              "\n",
              "  if (!files) {\n",
              "    return {\n",
              "      response: {\n",
              "        action: 'complete',\n",
              "      }\n",
              "    };\n",
              "  }\n",
              "\n",
              "  for (const file of files) {\n",
              "    const li = document.createElement('li');\n",
              "    li.append(span(file.name, {fontWeight: 'bold'}));\n",
              "    li.append(span(\n",
              "        `(${file.type || 'n/a'}) - ${file.size} bytes, ` +\n",
              "        `last modified: ${\n",
              "            file.lastModifiedDate ? file.lastModifiedDate.toLocaleDateString() :\n",
              "                                    'n/a'} - `));\n",
              "    const percent = span('0% done');\n",
              "    li.appendChild(percent);\n",
              "\n",
              "    outputElement.appendChild(li);\n",
              "\n",
              "    const fileDataPromise = new Promise((resolve) => {\n",
              "      const reader = new FileReader();\n",
              "      reader.onload = (e) => {\n",
              "        resolve(e.target.result);\n",
              "      };\n",
              "      reader.readAsArrayBuffer(file);\n",
              "    });\n",
              "    // Wait for the data to be ready.\n",
              "    let fileData = yield {\n",
              "      promise: fileDataPromise,\n",
              "      response: {\n",
              "        action: 'continue',\n",
              "      }\n",
              "    };\n",
              "\n",
              "    // Use a chunked sending to avoid message size limits. See b/62115660.\n",
              "    let position = 0;\n",
              "    do {\n",
              "      const length = Math.min(fileData.byteLength - position, MAX_PAYLOAD_SIZE);\n",
              "      const chunk = new Uint8Array(fileData, position, length);\n",
              "      position += length;\n",
              "\n",
              "      const base64 = btoa(String.fromCharCode.apply(null, chunk));\n",
              "      yield {\n",
              "        response: {\n",
              "          action: 'append',\n",
              "          file: file.name,\n",
              "          data: base64,\n",
              "        },\n",
              "      };\n",
              "\n",
              "      let percentDone = fileData.byteLength === 0 ?\n",
              "          100 :\n",
              "          Math.round((position / fileData.byteLength) * 100);\n",
              "      percent.textContent = `${percentDone}% done`;\n",
              "\n",
              "    } while (position < fileData.byteLength);\n",
              "  }\n",
              "\n",
              "  // All done.\n",
              "  yield {\n",
              "    response: {\n",
              "      action: 'complete',\n",
              "    }\n",
              "  };\n",
              "}\n",
              "\n",
              "scope.google = scope.google || {};\n",
              "scope.google.colab = scope.google.colab || {};\n",
              "scope.google.colab._files = {\n",
              "  _uploadFiles,\n",
              "  _uploadFilesContinue,\n",
              "};\n",
              "})(self);\n",
              "</script> "
            ]
          },
          "metadata": {}
        }
      ]
    },
    {
      "cell_type": "code",
      "source": [
        "import zipfile\n",
        "import os\n",
        "\n",
        "# Replace 'your_folder.zip' with the actual file name\n",
        "zip_path = \"Data.zip\"\n",
        "extract_path = \"/content/data\"\n",
        "\n",
        "with zipfile.ZipFile(zip_path, 'r') as zip_ref:\n",
        "    zip_ref.extractall(extract_path)\n",
        "\n",
        "# List extracted files\n",
        "print(os.listdir(extract_path))\n"
      ],
      "metadata": {
        "id": "UQt8tgMGlo9Y"
      },
      "execution_count": null,
      "outputs": []
    },
    {
      "cell_type": "code",
      "source": [
        "# Install required libraries\n",
        "!pip install torch torchvision opencv-python\n"
      ],
      "metadata": {
        "id": "BkRWjieio4tL"
      },
      "execution_count": null,
      "outputs": []
    },
    {
      "cell_type": "markdown",
      "metadata": {
        "id": "AMKitYLSRg8I"
      },
      "source": [
        "## Image example\n",
        "\n",
        "Source: NotBurtsBees - Own work, CC BY-SA 4.0, https://commons.wikimedia.org/w/index.php?curid=115615060"
      ]
    },
    {
      "cell_type": "code",
      "source": [
        "import torch\n",
        "\n",
        "# Load WaterNet model\n",
        "preprocess, postprocess, model = torch.hub.load('tnwei/waternet', 'waternet', pretrained=True)\n",
        "model.eval()\n"
      ],
      "metadata": {
        "id": "ft6JBqZ7o6GX"
      },
      "execution_count": null,
      "outputs": []
    },
    {
      "cell_type": "code",
      "source": [
        "import os\n",
        "import cv2\n",
        "import torch\n",
        "import shutil\n",
        "import numpy as np\n",
        "from tqdm import tqdm\n",
        "\n",
        "# Load WaterNet from TorchHub\n",
        "preprocess, postprocess_model, model = torch.hub.load('tnwei/waternet', 'waternet', pretrained=True)\n",
        "model.eval()\n",
        "\n",
        "# Custom postprocess function\n",
        "def postprocess(output_tensor):\n",
        "    # Detach and move tensor to CPU\n",
        "    output_tensor = output_tensor.detach().cpu()\n",
        "\n",
        "    # Clamp values to [0, 1]\n",
        "    output_tensor = torch.clamp(output_tensor, 0, 1)\n",
        "\n",
        "    # Convert to numpy array\n",
        "    output_image = output_tensor.permute(0, 2, 3, 1).squeeze(0).numpy()  # Shape: (height, width, channels)\n",
        "\n",
        "    # Scale to [0, 255] and convert to uint8\n",
        "    output_image = (output_image * 255).astype(np.uint8)\n",
        "\n",
        "    return output_image\n",
        "\n",
        "# Function to process a single image\n",
        "def process_image(image_path, output_path):\n",
        "    # Read the image\n",
        "    image = cv2.imread(image_path)\n",
        "    if image is None:\n",
        "        print(f\"Failed to read image: {image_path}\")\n",
        "        return\n",
        "    image_rgb = cv2.cvtColor(image, cv2.COLOR_BGR2RGB)\n",
        "\n",
        "    # Preprocess the image\n",
        "    try:\n",
        "        input_tensor = preprocess(image_rgb)\n",
        "    except ValueError as e:\n",
        "        print(f\"Preprocessing error for {image_path}: {e}\")\n",
        "        return\n",
        "\n",
        "    # Extract the tensor if preprocess returns a tuple\n",
        "    if isinstance(input_tensor, tuple):\n",
        "        input_tensor = input_tensor[0]\n",
        "\n",
        "    # Define wb, ce, and gc as tensors (adjust for less contrast)\n",
        "    batch_size, _, height, width = input_tensor.shape\n",
        "    device = input_tensor.device\n",
        "\n",
        "    # Moderate wb, ce, and gc for softer adjustments\n",
        "    wb = torch.full((batch_size, 3, height, width), 0.5, device=device)  # Reduced white balance\n",
        "    ce = torch.full((batch_size, 3, height, width), 0.7, device=device)  # Reduced contrast enhancement\n",
        "    gc = torch.full((batch_size, 3, height, width), 0.6, device=device)  # Reduced gamma correction\n",
        "\n",
        "    # Pass the image through WaterNet\n",
        "    try:\n",
        "        output_tensor = model(input_tensor, wb, ce, gc)\n",
        "    except ValueError as e:\n",
        "        print(f\"WaterNet error for {image_path}: {e}\")\n",
        "        return\n",
        "\n",
        "    # Postprocess the output\n",
        "    processed_image = postprocess(output_tensor)\n",
        "\n",
        "    # Convert to BGR for saving\n",
        "    processed_image_bgr = cv2.cvtColor(processed_image, cv2.COLOR_RGB2BGR)\n",
        "\n",
        "    # Save the processed image\n",
        "    cv2.imwrite(output_path, processed_image_bgr)\n",
        "\n",
        "# Paths\n",
        "input_base_path = \"/content/data/aquarium_pretrain\"\n",
        "output_base_path = \"/content/processed_data\"\n",
        "\n",
        "# Create output directory structure\n",
        "for folder in ['train', 'valid', 'test']:\n",
        "    for subfolder in ['images', 'labels']:\n",
        "        os.makedirs(os.path.join(output_base_path, folder, subfolder), exist_ok=True)\n",
        "\n",
        "# Process all images and copy labels\n",
        "for folder in ['train', 'valid', 'test']:\n",
        "    images_path = os.path.join(input_base_path, folder, 'images')\n",
        "    labels_path = os.path.join(input_base_path, folder, 'labels')\n",
        "\n",
        "    output_images_path = os.path.join(output_base_path, folder, 'images')\n",
        "    output_labels_path = os.path.join(output_base_path, folder, 'labels')\n",
        "\n",
        "    print(f\"Processing {folder} images...\")\n",
        "    for file_name in tqdm(os.listdir(images_path), desc=f\"Processing {folder}\"):\n",
        "        # Process images\n",
        "        if file_name.endswith(('.jpg', '.jpeg', '.png')):\n",
        "            input_image_path = os.path.join(images_path, file_name)\n",
        "            output_image_path = os.path.join(output_images_path, file_name)\n",
        "            process_image(input_image_path, output_image_path)\n",
        "\n",
        "        # Copy labels\n",
        "        label_file = file_name.rsplit('.', 1)[0] + '.txt'  # Replace image extension with .txt\n",
        "        input_label_path = os.path.join(labels_path, label_file)\n",
        "        if os.path.exists(input_label_path):\n",
        "            output_label_path = os.path.join(output_labels_path, label_file)\n",
        "            shutil.copy(input_label_path, output_label_path)\n",
        "\n",
        "print(\"Processing complete!\")"
      ],
      "metadata": {
        "id": "OfKZCLkLo9UJ"
      },
      "execution_count": null,
      "outputs": []
    },
    {
      "cell_type": "code",
      "source": [
        "!zip -r processed_data.zip /content/processed_data\n"
      ],
      "metadata": {
        "id": "5QCuWQhKqee9"
      },
      "execution_count": null,
      "outputs": []
    },
    {
      "cell_type": "code",
      "source": [
        "from google.colab import files\n",
        "files.download('processed_data.zip')\n"
      ],
      "metadata": {
        "id": "_mL8ILuXqdV_"
      },
      "execution_count": null,
      "outputs": []
    },
    {
      "cell_type": "code",
      "source": [],
      "metadata": {
        "id": "EuPICJ8Z55pf"
      },
      "execution_count": null,
      "outputs": []
    }
  ],
  "metadata": {
    "accelerator": "GPU",
    "colab": {
      "provenance": [],
      "gpuType": "T4",
      "include_colab_link": true
    },
    "kernelspec": {
      "display_name": "Python 3",
      "name": "python3"
    },
    "language_info": {
      "name": "python"
    }
  },
  "nbformat": 4,
  "nbformat_minor": 0
}